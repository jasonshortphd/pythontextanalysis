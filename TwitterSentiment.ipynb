{
 "cells": [
  {
   "cell_type": "code",
   "execution_count": 1,
   "metadata": {},
   "outputs": [],
   "source": [
    "import pandas as pd\n",
    "import numpy as np\n",
    "import re\n",
    "import string\n"
   ]
  },
  {
   "cell_type": "code",
   "execution_count": 2,
   "metadata": {},
   "outputs": [],
   "source": [
    "from nltk.corpus import stopwords\n",
    "from nltk.tokenize import word_tokenize\n",
    "from sklearn.feature_extraction.text import TfidfVectorizer\n",
    "from sklearn.model_selection import train_test_split\n",
    "from nltk.stem import PorterStemmer\n",
    "from nltk.stem import WordNetLemmatizer\n"
   ]
  },
  {
   "cell_type": "code",
   "execution_count": 3,
   "metadata": {},
   "outputs": [
    {
     "name": "stderr",
     "output_type": "stream",
     "text": [
      "[nltk_data] Downloading package punkt to /Users/jshort/nltk_data...\n",
      "[nltk_data]   Package punkt is already up-to-date!\n",
      "[nltk_data] Downloading package stopwords to\n",
      "[nltk_data]     /Users/jshort/nltk_data...\n",
      "[nltk_data]   Package stopwords is already up-to-date!\n",
      "[nltk_data] Downloading package wordnet to /Users/jshort/nltk_data...\n",
      "[nltk_data]   Package wordnet is already up-to-date!\n"
     ]
    },
    {
     "data": {
      "text/plain": [
       "True"
      ]
     },
     "execution_count": 3,
     "metadata": {},
     "output_type": "execute_result"
    }
   ],
   "source": [
    "import nltk\n",
    "nltk.download('punkt')\n",
    "nltk.download('stopwords')\n",
    "nltk.download('wordnet')"
   ]
  },
  {
   "cell_type": "code",
   "execution_count": 4,
   "metadata": {},
   "outputs": [],
   "source": [
    "# ML Libraries\n",
    "from sklearn.metrics import accuracy_score\n",
    "from sklearn.naive_bayes import MultinomialNB\n",
    "from sklearn.linear_model import LogisticRegression\n",
    "from sklearn.svm import SVC"
   ]
  },
  {
   "cell_type": "code",
   "execution_count": 5,
   "metadata": {},
   "outputs": [],
   "source": [
    "def load_dataset(filename, cols):\n",
    "    dataset = pd.read_csv(filename, index_col=False, header=None, sep=',', names=cols)\n",
    "    return dataset"
   ]
  },
  {
   "cell_type": "code",
   "execution_count": 6,
   "metadata": {},
   "outputs": [],
   "source": [
    "#Remove the columns we don't care about\n",
    "def remove_unwanted_cols(dataset, cols):\n",
    "    for col in cols:\n",
    "        try:\n",
    "            del dataset[col]\n",
    "        except:\n",
    "            print(f'Column {col} already removed')\n",
    "    return dataset"
   ]
  },
  {
   "cell_type": "code",
   "execution_count": 7,
   "metadata": {},
   "outputs": [],
   "source": [
    "def preprocess_tweet_text(tweet, useStemmer=False, useLemmatizer=False):\n",
    "    tweet.lower()\n",
    "    \n",
    "    # Remove urls\n",
    "    tweet = re.sub(r\"http\\S+|www\\S+|https\\S+\", '', tweet, flags=re.MULTILINE)\n",
    "    \n",
    "    # Remove user @ references and '#' from tweet\n",
    "    tweet = re.sub(r'\\@\\w+|\\#','', tweet)\n",
    "    \n",
    "    # Remove punctuations\n",
    "    tweet = tweet.translate(str.maketrans('', '', string.punctuation))\n",
    "    \n",
    "    # Remove stopwords\n",
    "    tweet_tokens = word_tokenize(tweet)\n",
    "    \n",
    "    filtered_words = [w for w in tweet_tokens if not w in stopwords.words('english')]\n",
    "    \n",
    "    if useStemmer is True: \n",
    "        ps = PorterStemmer()\n",
    "        stemmed_words = [ps.stem(w) for w in filtered_words]\n",
    "        # Replace the words with these new ones\n",
    "        filtered_words = stemmed_words\n",
    "\n",
    "    if useLemmatizer is True:\n",
    "        lemmatizer = WordNetLemmatizer()\n",
    "        lemma_words = [lemmatizer.lemmatize(w, pos='a') for w in filtered_words]\n",
    "        # Replace the words\n",
    "        filtered_words = lemma_words\n",
    "    \n",
    "    return \" \".join(filtered_words)\n"
   ]
  },
  {
   "cell_type": "code",
   "execution_count": 8,
   "metadata": {},
   "outputs": [],
   "source": [
    "def get_feature_vector(train_fit):\n",
    "    vector = TfidfVectorizer(sublinear_tf=True)\n",
    "    vector.fit(train_fit)\n",
    "    return vector"
   ]
  },
  {
   "cell_type": "code",
   "execution_count": 9,
   "metadata": {},
   "outputs": [],
   "source": [
    "def int_to_string(sentiment):\n",
    "    if sentiment == 0:\n",
    "        return \"Negative\"\n",
    "    elif sentiment == 2:\n",
    "        return \"Neutral\"\n",
    "    else:\n",
    "        return \"Positive\"\n",
    "    "
   ]
  },
  {
   "cell_type": "code",
   "execution_count": 10,
   "metadata": {},
   "outputs": [],
   "source": [
    "def TestDataSet(filename, useStem=False, useLema=False):\n",
    "    # Load dataset\n",
    "    dataset = load_dataset(filename, ['score', 'id', 'created_at', 'query', 'user', 'text'])\n",
    "    # Remove unwanted columns from dataset\n",
    "    dataset = remove_unwanted_cols(dataset, ['id', 'created_at', 'query', 'user'])\n",
    "    # Clean up the text using different options\n",
    "    dataset.text = dataset['text'].apply(preprocess_tweet_text, useStemmer=useStem, useLemmatizer=useLema)\n",
    "    # Split dataset into Train, Test\n",
    "\n",
    "    # Same tf vector will be used for Testing sentiments on unseen trending data\n",
    "    tf_vector = get_feature_vector(np.array(dataset.iloc[:, 1]).ravel())\n",
    "    X = tf_vector.transform(np.array(dataset.iloc[:, 1]).ravel())\n",
    "    y = np.array(dataset.iloc[:, 0]).ravel()\n",
    "    X_train, X_test, y_train, y_test = train_test_split(X, y, test_size=0.2, random_state=30)\n",
    "\n",
    "    # Training Naive Bayes model\n",
    "    NB_model = MultinomialNB()\n",
    "    NB_model.fit(X_train, y_train)\n",
    "    y_predict_nb = NB_model.predict(X_test)\n",
    "    print(f'Naive Bayes Score: \\t{accuracy_score(y_test, y_predict_nb)}')\n",
    "\n",
    "    # Training Logistics Regression model\n",
    "    LR_model = LogisticRegression(solver='lbfgs')\n",
    "    LR_model.fit(X_train, y_train)\n",
    "    y_predict_lr = LR_model.predict(X_test)\n",
    "    print(f'Logistic Regression Score: \\t{accuracy_score(y_test, y_predict_lr)}')\n",
    "    print(' ')\n",
    "    dataset = None\n"
   ]
  },
  {
   "cell_type": "code",
   "execution_count": 11,
   "metadata": {},
   "outputs": [
    {
     "name": "stdout",
     "output_type": "stream",
     "text": [
      "Stemming OFF\tLematizer OFF\n",
      "Naive Bayes Score: 0.62\n",
      "Logistic Regression Score: 0.61\n",
      " \n",
      "Stemming ON \tLematizer OFF\n",
      "Naive Bayes Score: 0.64\n",
      "Logistic Regression Score: 0.66\n",
      " \n",
      "Stemming OFF \tLematizer ON\n",
      "Naive Bayes Score: 0.62\n",
      "Logistic Regression Score: 0.61\n",
      " \n",
      "Stemming ON \tLematizer ON\n",
      "Naive Bayes Score: 0.64\n",
      "Logistic Regression Score: 0.64\n",
      " \n"
     ]
    }
   ],
   "source": [
    "print('Stemming OFF\\tLematizer OFF')\n",
    "TestDataSet('data/testdata.manual.2009.06.14.csv', False, False)\n",
    "print('Stemming ON \\tLematizer OFF')\n",
    "TestDataSet('data/testdata.manual.2009.06.14.csv', True, False)\n",
    "print('Stemming OFF \\tLematizer ON')\n",
    "TestDataSet('data/testdata.manual.2009.06.14.csv', False, True)\n",
    "print('Stemming ON \\tLematizer ON')\n",
    "TestDataSet('data/testdata.manual.2009.06.14.csv', True, True)"
   ]
  },
  {
   "cell_type": "code",
   "execution_count": null,
   "metadata": {},
   "outputs": [],
   "source": []
  }
 ],
 "metadata": {
  "kernelspec": {
   "display_name": "Python 3",
   "language": "python",
   "name": "python3"
  },
  "language_info": {
   "codemirror_mode": {
    "name": "ipython",
    "version": 3
   },
   "file_extension": ".py",
   "mimetype": "text/x-python",
   "name": "python",
   "nbconvert_exporter": "python",
   "pygments_lexer": "ipython3",
   "version": "3.7.6"
  }
 },
 "nbformat": 4,
 "nbformat_minor": 4
}
